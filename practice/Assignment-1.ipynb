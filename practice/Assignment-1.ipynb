{
 "cells": [
  {
   "cell_type": "markdown",
   "metadata": {},
   "source": [
    "#### 1- Write Python Program to Check Whether a Number is Positive or Negative"
   ]
  },
  {
   "cell_type": "code",
   "execution_count": 10,
   "metadata": {},
   "outputs": [
    {
     "name": "stdout",
     "output_type": "stream",
     "text": [
      "Please enter any number : 5.2\n",
      "You wrote positive integer : 5.2\n"
     ]
    }
   ],
   "source": [
    "num = float(input(\"Please enter any number : \"));\n",
    "if num > 0:\n",
    "    print(f\"You wrote positive integer : {num}\")\n",
    "elif num < 0:\n",
    "    print(f\"You wrote negative integer : {num}\")\n",
    "else:\n",
    "    print(f\"You wrote zero : {num}\")"
   ]
  },
  {
   "cell_type": "markdown",
   "metadata": {},
   "source": [
    "#### 2- Write Python Program to Take in the Marks of 5 Subjects and Display the Grade"
   ]
  },
  {
   "cell_type": "code",
   "execution_count": 18,
   "metadata": {},
   "outputs": [
    {
     "name": "stdout",
     "output_type": "stream",
     "text": [
      "Enter your marks of subject 1 : 60\n",
      "Enter your marks of subject 2 : 60\n",
      "Enter your marks of subject 3 : 60\n",
      "Enter your marks of subject 4 : 60\n",
      "Enter your marks of subject 5 : 65\n",
      "Result : \n",
      " Grade : C \n",
      " Percentage : 61.0 \n",
      "\n"
     ]
    }
   ],
   "source": [
    "subjects = []\n",
    "totalSubjects = 5\n",
    "totalMarks = totalSubjects * 100\n",
    "grade = \"\"\n",
    "percentage = 0\n",
    "\n",
    "\n",
    "# Initiate a loop to take input from user\n",
    "for i in range(1,totalSubjects + 1):\n",
    "    marks = float(input(f\"Enter your marks of subject {i} : \"))\n",
    "    subjects.append(marks)\n",
    "    \n",
    "obtainedMarks = sum(subjects) # Sum of subjects array   \n",
    "percentage = (obtainedMarks / totalMarks) * 100  # Calculate Percentage\n",
    "\n",
    "\n",
    "if(percentage >= 90):\n",
    "    result =  \"A\"\n",
    "elif(percentage >= 80):\n",
    "    result = \"B\"\n",
    "elif(percentage >=60):\n",
    "    result = \"C\"\n",
    "elif(percentage >=50):\n",
    "    result = \"D\"\n",
    "else:\n",
    "    result = \"F\"\n",
    "    \n",
    "print(f\"Result : \\n Grade : {result} \\n Percentage : {percentage} \\n\")"
   ]
  },
  {
   "cell_type": "markdown",
   "metadata": {},
   "source": [
    "#### Write Python Program to Read Two Numbers and Print Their Quotient and Remainder"
   ]
  },
  {
   "cell_type": "code",
   "execution_count": 26,
   "metadata": {},
   "outputs": [
    {
     "name": "stdout",
     "output_type": "stream",
     "text": [
      "Enter Dividend : 25\n",
      "Enter Devisor : 5\n",
      "Quotient of  25.0 and 5.0 : 5.0\n",
      "Remainder of 25.0 and 5.0 : 0.0\n"
     ]
    }
   ],
   "source": [
    "num1 = float(input(\"Enter Dividend : \"))\n",
    "num2 = float(input(\"Enter Devisor : \"))\n",
    "\n",
    "quotient = num1 // num2\n",
    "remainder = num1 % num2\n",
    "\n",
    "print(f\"Quotient of  {num1} and {num2} : {quotient}\")\n",
    "print(f\"Remainder of {num1} and {num2} : {remainder}\")\n",
    "\n"
   ]
  },
  {
   "cell_type": "markdown",
   "metadata": {},
   "source": [
    "#### Write Python Program to Print all Integers that Aren’t Divisible by Either 2 or 3 and Lie between 1 and 50"
   ]
  },
  {
   "cell_type": "code",
   "execution_count": 35,
   "metadata": {},
   "outputs": [
    {
     "name": "stdout",
     "output_type": "stream",
     "text": [
      "1\n",
      "5\n",
      "7\n",
      "11\n",
      "13\n",
      "17\n",
      "19\n",
      "23\n",
      "25\n",
      "29\n",
      "31\n",
      "35\n",
      "37\n",
      "41\n",
      "43\n",
      "47\n",
      "49\n"
     ]
    }
   ],
   "source": [
    "for i in range(1,51):\n",
    "    if (i % 2 != 0) and (i % 3 !=0): # True if number can't completly divided by 2 and 3\n",
    "        print(i)"
   ]
  },
  {
   "cell_type": "markdown",
   "metadata": {},
   "source": [
    "#### Write Python Program to Exchange the Values of Two Numbers Without Using a Temporary Variable"
   ]
  },
  {
   "cell_type": "code",
   "execution_count": 36,
   "metadata": {},
   "outputs": [
    {
     "name": "stdout",
     "output_type": "stream",
     "text": [
      "6.0\n",
      "5.0\n"
     ]
    }
   ],
   "source": [
    "num1 = 5\n",
    "num2 = 6\n",
    "num2 = num1 * num2 # 30\n",
    "num1 = num2 / num1 # 6\n",
    "num2 = num2 / num1 # 5\n",
    "\n",
    "print(num1)\n",
    "print(num2)"
   ]
  },
  {
   "cell_type": "markdown",
   "metadata": {},
   "source": [
    "#### Write Python Program to Find the Area of a Triangle Given All Three Sides"
   ]
  },
  {
   "cell_type": "code",
   "execution_count": null,
   "metadata": {},
   "outputs": [],
   "source": [
    "# Take in all the three sides of the triangle and store it in three separate variables.\n",
    "side1 = input(\"Enter length of Side 1 : \")\n",
    "side2 = input(\"Enter length of Side 2 : \")\n",
    "side3 = input(\"Enter length of Side 3 : \")\n",
    "d = ((side1 + side2 + side3) / 2 )\n",
    "\n",
    "2. Then using the Heron’s formula, compute the area of the triangle.\n",
    "3. Print the area of the triangle."
   ]
  },
  {
   "cell_type": "markdown",
   "metadata": {},
   "source": [
    "#### Write Python Program to Find the Second Largest Number in a List"
   ]
  },
  {
   "cell_type": "code",
   "execution_count": 44,
   "metadata": {},
   "outputs": [
    {
     "name": "stdout",
     "output_type": "stream",
     "text": [
      "[2, 4, 5, 6, 7, 7, 8, 9, 11, 22]\n",
      "11\n"
     ]
    }
   ],
   "source": [
    "# Write Python Program to Find the Second Largest Number in a List\n",
    "data = [5,8,2,4,7,9,22,11,6,7]\n",
    "data.sort()\n",
    "print(data)\n",
    "print(data[-2])\n",
    "\n"
   ]
  },
  {
   "cell_type": "markdown",
   "metadata": {},
   "source": []
  }
 ],
 "metadata": {
  "kernelspec": {
   "display_name": "Python 3",
   "language": "python",
   "name": "python3"
  },
  "language_info": {
   "codemirror_mode": {
    "name": "ipython",
    "version": 3
   },
   "file_extension": ".py",
   "mimetype": "text/x-python",
   "name": "python",
   "nbconvert_exporter": "python",
   "pygments_lexer": "ipython3",
   "version": "3.7.3"
  }
 },
 "nbformat": 4,
 "nbformat_minor": 2
}
