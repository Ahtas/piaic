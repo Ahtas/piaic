{
 "cells": [
  {
   "cell_type": "markdown",
   "metadata": {},
   "source": [
    "# Basic Data Types and String Methods"
   ]
  },
  {
   "cell_type": "code",
   "execution_count": 2,
   "metadata": {},
   "outputs": [
    {
     "name": "stdout",
     "output_type": "stream",
     "text": [
      "The Zen of Python, by Tim Peters\n",
      "\n",
      "Beautiful is better than ugly.\n",
      "Explicit is better than implicit.\n",
      "Simple is better than complex.\n",
      "Complex is better than complicated.\n",
      "Flat is better than nested.\n",
      "Sparse is better than dense.\n",
      "Readability counts.\n",
      "Special cases aren't special enough to break the rules.\n",
      "Although practicality beats purity.\n",
      "Errors should never pass silently.\n",
      "Unless explicitly silenced.\n",
      "In the face of ambiguity, refuse the temptation to guess.\n",
      "There should be one-- and preferably only one --obvious way to do it.\n",
      "Although that way may not be obvious at first unless you're Dutch.\n",
      "Now is better than never.\n",
      "Although never is often better than *right* now.\n",
      "If the implementation is hard to explain, it's a bad idea.\n",
      "If the implementation is easy to explain, it may be a good idea.\n",
      "Namespaces are one honking great idea -- let's do more of those!\n"
     ]
    }
   ],
   "source": [
    "import this"
   ]
  },
  {
   "cell_type": "code",
   "execution_count": 3,
   "metadata": {},
   "outputs": [
    {
     "data": {
      "text/plain": [
       "14"
      ]
     },
     "execution_count": 3,
     "metadata": {},
     "output_type": "execute_result"
    }
   ],
   "source": [
    "5 + 9 # Operation\n",
    "# Operators\n",
    "    # +, - , * , / , %, **\n",
    "    # = , +=, -=, *=, /=, **=\n",
    "    # == , <, >, >=, <=, !=\n",
    "    # and (&) or (|)\n",
    "    \n",
    "# 5, 9 # Oprands"
   ]
  },
  {
   "cell_type": "code",
   "execution_count": 4,
   "metadata": {},
   "outputs": [
    {
     "data": {
      "text/plain": [
       "41.0"
      ]
     },
     "execution_count": 4,
     "metadata": {},
     "output_type": "execute_result"
    }
   ],
   "source": [
    "#PEMDAS\n",
    "9 + 8 * 2 / 2**2 + (7 -3) * 7\n",
    "#9 + 8 * 2 / 2**2 + 4 * 7\n",
    "#9 + 8 * 2 / 4 + 4 * 7\n",
    "#9 + 8 * 2 / 4 + 4 * 7\n",
    "#9 + 16 / 4 + 28\n",
    "#9 + 4 + 28\n",
    "#41"
   ]
  },
  {
   "cell_type": "code",
   "execution_count": 9,
   "metadata": {},
   "outputs": [
    {
     "name": "stdout",
     "output_type": "stream",
     "text": [
      "80\n",
      "80\n",
      "140715509390624\n",
      "140715509390624\n"
     ]
    }
   ],
   "source": [
    "# There are two type of copy\n",
    "# Shallow Copy : Copy the address the of right handside variable\n",
    "# Deep Copy : Copy the actual contents and write on new location\n",
    "\n",
    "a = 80\n",
    "b = 80\n",
    "\n",
    "print(a)\n",
    "print(b)\n",
    "\n",
    "print(id(a))\n",
    "print(id(b))"
   ]
  },
  {
   "cell_type": "code",
   "execution_count": 7,
   "metadata": {},
   "outputs": [
    {
     "name": "stdout",
     "output_type": "stream",
     "text": [
      "['P', 'I', 'A', 'I', 'C']\n",
      "['P', 'I', 'A', 'I', 'C']\n",
      "2803696078792\n",
      "2803696077256\n"
     ]
    }
   ],
   "source": [
    "a = list(\"PIAIC\")\n",
    "b = a.copy()\n",
    "\n",
    "print(a)\n",
    "print(b)\n",
    "\n",
    "print(id(a))\n",
    "print(id(b))"
   ]
  },
  {
   "cell_type": "code",
   "execution_count": 11,
   "metadata": {},
   "outputs": [
    {
     "name": "stdout",
     "output_type": "stream",
     "text": [
      "<class 'str'>\n",
      "<class 'int'>\n"
     ]
    }
   ],
   "source": [
    "name = \"Arsalan\"\n",
    "age = 25\n",
    "print(type(name)) # type function output the data type of contents\n",
    "print(type(age))"
   ]
  },
  {
   "cell_type": "code",
   "execution_count": 16,
   "metadata": {},
   "outputs": [
    {
     "name": "stdout",
     "output_type": "stream",
     "text": [
      "3\n",
      "3.6666666666666665\n",
      "<class 'int'>\n",
      "<class 'float'>\n"
     ]
    }
   ],
   "source": [
    "num1 = 11 // 3 # floor division remove the value after decimal point - output 3\n",
    "num2 = 11 / 3 # normal division - output 3.6666\n",
    "print(num1)\n",
    "print(num2)\n",
    "print(type(num1))\n",
    "print(type(num2))"
   ]
  },
  {
   "cell_type": "code",
   "execution_count": 17,
   "metadata": {},
   "outputs": [
    {
     "name": "stdout",
     "output_type": "stream",
     "text": [
      "20.8\n",
      "<class 'float'>\n"
     ]
    }
   ],
   "source": [
    "num1 = 20.8\n",
    "print(num1)\n",
    "print(type(num1))"
   ]
  },
  {
   "cell_type": "code",
   "execution_count": 18,
   "metadata": {},
   "outputs": [
    {
     "name": "stdout",
     "output_type": "stream",
     "text": [
      "1.0\n",
      "<class 'float'>\n"
     ]
    }
   ],
   "source": [
    "num1 = 8 / 8 # result will be automatically convert into float datatype\n",
    "print(num1) #\n",
    "print(type(num1))"
   ]
  },
  {
   "cell_type": "code",
   "execution_count": 19,
   "metadata": {},
   "outputs": [
    {
     "name": "stdout",
     "output_type": "stream",
     "text": [
      "False\n",
      "<class 'bool'>\n"
     ]
    }
   ],
   "source": [
    "boolean = False\n",
    "print(boolean)\n",
    "print(type(boolean))"
   ]
  },
  {
   "cell_type": "code",
   "execution_count": 21,
   "metadata": {},
   "outputs": [
    {
     "name": "stdout",
     "output_type": "stream",
     "text": [
      "20\n",
      "<class 'str'>\n"
     ]
    }
   ],
   "source": [
    "num1 = \"20\" # if number is enclosed in qoutes (either single,double or triple) then it would be converted into string datatype \n",
    "print(num1)\n",
    "print(type(num1))"
   ]
  },
  {
   "cell_type": "code",
   "execution_count": 23,
   "metadata": {},
   "outputs": [
    {
     "name": "stdout",
     "output_type": "stream",
     "text": [
      "['John', 'Jessica', 'Jane', 'Steven']\n",
      "Jane\n",
      "Jessica\n",
      "<class 'list'>\n"
     ]
    }
   ],
   "source": [
    "#index    0       1         2       3\n",
    "names = ['John','Jessica','Jane','Steven']   #List [el, el]\n",
    "#index    -4      -3       -2      -1\n",
    "\n",
    "print(names)\n",
    "print(names[2])\n",
    "print(names[-3])\n",
    "print(type(names))"
   ]
  },
  {
   "cell_type": "code",
   "execution_count": 24,
   "metadata": {},
   "outputs": [
    {
     "name": "stdout",
     "output_type": "stream",
     "text": [
      "('John', 'Jessica', 'Jane', 'Steven')\n",
      "Jane\n",
      "Jessica\n",
      "<class 'tuple'>\n"
     ]
    }
   ],
   "source": [
    "#index    0       1         2       3\n",
    "names = ('John','Jessica','Jane','Steven')   #tuple (el, el)\n",
    "#index    -4      -3       -2      -1\n",
    "\n",
    "print(names)\n",
    "print(names[2])\n",
    "print(names[-3])\n",
    "print(type(names))"
   ]
  },
  {
   "cell_type": "code",
   "execution_count": 28,
   "metadata": {},
   "outputs": [
    {
     "name": "stdout",
     "output_type": "stream",
     "text": [
      "{'Jane', 'John', 'Steven', 'Jessica'}\n",
      "Steven\n",
      "<class 'set'>\n"
     ]
    }
   ],
   "source": [
    "#index    0       1         2       3\n",
    "names = {'John','Jessica','Jane','Steven'}   #set {el, el}\n",
    "#index    -4      -3       -2      -1\n",
    "\n",
    "print(names)\n",
    "# print(names[2]) # will output error because set don't support index\n",
    "print(list(names)[2]) # not sure which value will be output as it don't keep order and also remove duplicate values\n",
    "print(type(names))"
   ]
  },
  {
   "cell_type": "code",
   "execution_count": 30,
   "metadata": {},
   "outputs": [
    {
     "name": "stdout",
     "output_type": "stream",
     "text": [
      "John\n",
      "America\n"
     ]
    }
   ],
   "source": [
    "# {\n",
    "# key0: value1,\n",
    "# key1: value1, \n",
    "# key2:value2\n",
    "# }\n",
    "\n",
    "# Dictionary : key hashable data type\n",
    "# value could be any data types\n",
    "\n",
    "\n",
    "data = {\n",
    "    \"name\":\"John\",\n",
    "    \"fname\":\"Doe\",\n",
    "    \"fee\":6000,\n",
    "    \"education\":['Matric',\"Intermediate\",\"BSCS\",\"MSCS\"],\n",
    "    3: \"America\",\n",
    "    'a' : 10000\n",
    "}\n",
    "print(data['name'])\n",
    "print(data[3])"
   ]
  },
  {
   "cell_type": "code",
   "execution_count": 31,
   "metadata": {},
   "outputs": [
    {
     "name": "stdout",
     "output_type": "stream",
     "text": [
      "<class 'int'>\n",
      "<class 'float'>\n",
      "<class 'str'>\n",
      "<class 'list'>\n",
      "<class 'set'>\n",
      "<class 'bool'>\n"
     ]
    }
   ],
   "source": [
    "#Type casting\n",
    "num = 20\n",
    "print(type(num))\n",
    "num = float(num)\n",
    "print(type(num))\n",
    "num = str(num)\n",
    "print(type(num))\n",
    "num = list(num)\n",
    "print(type(num))\n",
    "num = set(num)\n",
    "print(type(num))\n",
    "num = bool(num)\n",
    "print(type(num))"
   ]
  },
  {
   "cell_type": "code",
   "execution_count": 34,
   "metadata": {},
   "outputs": [
    {
     "name": "stdout",
     "output_type": "stream",
     "text": [
      "26.6\n",
      "26\n"
     ]
    }
   ],
   "source": [
    "num = 26.6\n",
    "print(num)\n",
    "num = int(num)\n",
    "print(num)\n"
   ]
  },
  {
   "cell_type": "markdown",
   "metadata": {},
   "source": [
    "## Slicing"
   ]
  },
  {
   "cell_type": "code",
   "execution_count": 35,
   "metadata": {},
   "outputs": [],
   "source": [
    "#list[start:end:step]\n",
    "#tuple[start:end:step]\n",
    "#string[start:end:step]\n",
    "#start ->Included\n",
    "#end   ->Excluded\n",
    "#Step  ->Sequance"
   ]
  },
  {
   "cell_type": "code",
   "execution_count": 74,
   "metadata": {},
   "outputs": [
    {
     "name": "stdout",
     "output_type": "stream",
     "text": [
      "Pakistan is my beloved country\n",
      "Pakistan is my beloved country\n",
      "yrtnuoc devoleb ym si natsikaP\n",
      "Pak\n",
      "\n",
      "Pakistan country\n"
     ]
    }
   ],
   "source": [
    "paragraph = \"Pakistan is my beloved country\"\n",
    "print(paragraph)\n",
    "print(paragraph[::])\n",
    "print(paragraph[::-1]) # output inverse \n",
    "print(paragraph[0:3])\n",
    "print(paragraph[0:3:-1])\n",
    "print(paragraph[0:8] + \" \" +paragraph[-7:])"
   ]
  },
  {
   "cell_type": "markdown",
   "metadata": {},
   "source": [
    "## String Data types and Methods"
   ]
  },
  {
   "cell_type": "code",
   "execution_count": 85,
   "metadata": {},
   "outputs": [],
   "source": [
    "# help(str)\n",
    "# str?\n",
    "# str??\n",
    "# ?str\n",
    "# ??str"
   ]
  },
  {
   "cell_type": "code",
   "execution_count": 87,
   "metadata": {},
   "outputs": [
    {
     "data": {
      "text/plain": [
       "['__add__',\n",
       " '__class__',\n",
       " '__contains__',\n",
       " '__delattr__',\n",
       " '__dir__',\n",
       " '__doc__',\n",
       " '__eq__',\n",
       " '__format__',\n",
       " '__ge__',\n",
       " '__getattribute__',\n",
       " '__getitem__',\n",
       " '__getnewargs__',\n",
       " '__gt__',\n",
       " '__hash__',\n",
       " '__init__',\n",
       " '__init_subclass__',\n",
       " '__iter__',\n",
       " '__le__',\n",
       " '__len__',\n",
       " '__lt__',\n",
       " '__mod__',\n",
       " '__mul__',\n",
       " '__ne__',\n",
       " '__new__',\n",
       " '__reduce__',\n",
       " '__reduce_ex__',\n",
       " '__repr__',\n",
       " '__rmod__',\n",
       " '__rmul__',\n",
       " '__setattr__',\n",
       " '__sizeof__',\n",
       " '__str__',\n",
       " '__subclasshook__',\n",
       " 'capitalize',\n",
       " 'casefold',\n",
       " 'center',\n",
       " 'count',\n",
       " 'encode',\n",
       " 'endswith',\n",
       " 'expandtabs',\n",
       " 'find',\n",
       " 'format',\n",
       " 'format_map',\n",
       " 'index',\n",
       " 'isalnum',\n",
       " 'isalpha',\n",
       " 'isascii',\n",
       " 'isdecimal',\n",
       " 'isdigit',\n",
       " 'isidentifier',\n",
       " 'islower',\n",
       " 'isnumeric',\n",
       " 'isprintable',\n",
       " 'isspace',\n",
       " 'istitle',\n",
       " 'isupper',\n",
       " 'join',\n",
       " 'ljust',\n",
       " 'lower',\n",
       " 'lstrip',\n",
       " 'maketrans',\n",
       " 'partition',\n",
       " 'replace',\n",
       " 'rfind',\n",
       " 'rindex',\n",
       " 'rjust',\n",
       " 'rpartition',\n",
       " 'rsplit',\n",
       " 'rstrip',\n",
       " 'split',\n",
       " 'splitlines',\n",
       " 'startswith',\n",
       " 'strip',\n",
       " 'swapcase',\n",
       " 'title',\n",
       " 'translate',\n",
       " 'upper',\n",
       " 'zfill']"
      ]
     },
     "execution_count": 87,
     "metadata": {},
     "output_type": "execute_result"
    }
   ],
   "source": [
    "name = \"John Doe\"\n",
    "dir(name)"
   ]
  },
  {
   "cell_type": "code",
   "execution_count": 92,
   "metadata": {},
   "outputs": [
    {
     "name": "stdout",
     "output_type": "stream",
     "text": [
      "JOHN DOE\n",
      "John Doe\n"
     ]
    }
   ],
   "source": [
    "name = \"John Doe\"\n",
    "print(name.upper()) # Inline Operation\n",
    "print(name)"
   ]
  },
  {
   "cell_type": "code",
   "execution_count": 93,
   "metadata": {},
   "outputs": [
    {
     "name": "stdout",
     "output_type": "stream",
     "text": [
      "JOHN DOE\n"
     ]
    }
   ],
   "source": [
    "name = \"John Doe\"\n",
    "name = name.upper() # In Memory Operation\n",
    "print(name)"
   ]
  },
  {
   "cell_type": "code",
   "execution_count": 96,
   "metadata": {},
   "outputs": [
    {
     "name": "stdout",
     "output_type": "stream",
     "text": [
      "John Doe\n",
      "john doe\n"
     ]
    }
   ],
   "source": [
    "name = \"john doe\"\n",
    "print(name.title())\n",
    "print(name)"
   ]
  },
  {
   "cell_type": "code",
   "execution_count": 97,
   "metadata": {},
   "outputs": [
    {
     "name": "stdout",
     "output_type": "stream",
     "text": [
      "John doe\n",
      "JoHn DoE\n"
     ]
    }
   ],
   "source": [
    "a = \"JoHn DoE\"\n",
    "print(a.capitalize())\n",
    "print(a)"
   ]
  },
  {
   "cell_type": "code",
   "execution_count": 99,
   "metadata": {},
   "outputs": [
    {
     "name": "stdout",
     "output_type": "stream",
     "text": [
      "        John            Doe     \n"
     ]
    }
   ],
   "source": [
    "name = \"        John            Doe     \"\n",
    "print(name)"
   ]
  },
  {
   "cell_type": "code",
   "execution_count": 100,
   "metadata": {},
   "outputs": [
    {
     "name": "stdout",
     "output_type": "stream",
     "text": [
      "32\n",
      "John            Doe     \n",
      "24\n",
      "        John            Doe     \n"
     ]
    }
   ],
   "source": [
    "name = \"        John            Doe     \"\n",
    "print(len(name))\n",
    "print(name.lstrip())\n",
    "print(len(name.lstrip()))\n",
    "print(name)"
   ]
  },
  {
   "cell_type": "code",
   "execution_count": 102,
   "metadata": {},
   "outputs": [
    {
     "name": "stdout",
     "output_type": "stream",
     "text": [
      "32\n",
      "        John            Doe\n",
      "27\n",
      "        John            Doe     \n"
     ]
    }
   ],
   "source": [
    "name = \"        John            Doe     \"\n",
    "print(len(name))\n",
    "print(name.rstrip())\n",
    "print(len(name.rstrip()))\n",
    "print(name)"
   ]
  },
  {
   "cell_type": "code",
   "execution_count": 103,
   "metadata": {},
   "outputs": [
    {
     "name": "stdout",
     "output_type": "stream",
     "text": [
      "32\n",
      "John            Doe\n",
      "19\n",
      "        John            Doe     \n"
     ]
    }
   ],
   "source": [
    "name = \"        John            Doe     \"\n",
    "print(len(name))\n",
    "print(name.strip())\n",
    "print(len(name.strip()))\n",
    "print(name)"
   ]
  },
  {
   "cell_type": "code",
   "execution_count": 105,
   "metadata": {},
   "outputs": [
    {
     "data": {
      "text/plain": [
       "['John', 'Doe']"
      ]
     },
     "execution_count": 105,
     "metadata": {},
     "output_type": "execute_result"
    }
   ],
   "source": [
    "name = \"        John            Doe     \"\n",
    "name_parts = name.split()\n",
    "name_parts"
   ]
  },
  {
   "cell_type": "code",
   "execution_count": 106,
   "metadata": {},
   "outputs": [
    {
     "data": {
      "text/plain": [
       "'John Doe'"
      ]
     },
     "execution_count": 106,
     "metadata": {},
     "output_type": "execute_result"
    }
   ],
   "source": [
    "\" \".join(name_parts)"
   ]
  },
  {
   "cell_type": "code",
   "execution_count": 107,
   "metadata": {},
   "outputs": [
    {
     "data": {
      "text/plain": [
       "'John=====Doe'"
      ]
     },
     "execution_count": 107,
     "metadata": {},
     "output_type": "execute_result"
    }
   ],
   "source": [
    "\"=====\".join(name_parts)"
   ]
  },
  {
   "cell_type": "code",
   "execution_count": 109,
   "metadata": {},
   "outputs": [
    {
     "data": {
      "text/plain": [
       "'12345639212323382323322'"
      ]
     },
     "execution_count": 109,
     "metadata": {},
     "output_type": "execute_result"
    }
   ],
   "source": [
    "string = \"kjas123456aldjf 3921u23j2 l338j2 3k-dfasd23/32*2\"\n",
    "\n",
    "\"\".join([i for i in string if str.isnumeric(i)])"
   ]
  },
  {
   "cell_type": "code",
   "execution_count": 111,
   "metadata": {},
   "outputs": [
    {
     "data": {
      "text/plain": [
       "42"
      ]
     },
     "execution_count": 111,
     "metadata": {},
     "output_type": "execute_result"
    }
   ],
   "source": [
    "string = \"Pakistan is my beloved country, i love in pakistan !\"\n",
    "string.find(\"pakistan\")"
   ]
  },
  {
   "cell_type": "code",
   "execution_count": 112,
   "metadata": {},
   "outputs": [
    {
     "data": {
      "text/plain": [
       "42"
      ]
     },
     "execution_count": 112,
     "metadata": {},
     "output_type": "execute_result"
    }
   ],
   "source": [
    "string = \"Pakistan is my beloved country, i love in pakistan !\"\n",
    "string.index(\"pakistan\")"
   ]
  },
  {
   "cell_type": "code",
   "execution_count": 113,
   "metadata": {},
   "outputs": [
    {
     "name": "stdout",
     "output_type": "stream",
     "text": [
      "Search:beloved\n",
      "beloved\n"
     ]
    },
    {
     "data": {
      "text/plain": [
       "'Pakistan is my beloved country, i love in pakistan !'"
      ]
     },
     "execution_count": 113,
     "metadata": {},
     "output_type": "execute_result"
    }
   ],
   "source": [
    "value = input(\"Search:\")\n",
    "print(string[string.index(value): string.index(value)+len(value)])\n",
    "string[string.index(string): ]"
   ]
  },
  {
   "cell_type": "code",
   "execution_count": 114,
   "metadata": {},
   "outputs": [
    {
     "name": "stdout",
     "output_type": "stream",
     "text": [
      "\n",
      "PIAIC ISLAMABAD\n",
      "Bahria University \n",
      "Name: John Doe\n",
      "Father's Name: Steven\n",
      "\n"
     ]
    }
   ],
   "source": [
    "card = \"\"\"\n",
    "PIAIC ISLAMABAD\n",
    "Bahria University \n",
    "Name: John Doe\n",
    "Father's Name: Steven\n",
    "\"\"\"\n",
    "\n",
    "print(card)"
   ]
  },
  {
   "cell_type": "code",
   "execution_count": 117,
   "metadata": {},
   "outputs": [
    {
     "name": "stdout",
     "output_type": "stream",
     "text": [
      "\n",
      "PIAIC ISLAMABAD\n",
      "Bahria University \n",
      "Name: John Doe\n",
      "Father's Name: Seven\n",
      "Fee : 6000\n",
      "\n"
     ]
    }
   ],
   "source": [
    "student_name = \"John Doe\"\n",
    "f_name = \"Seven\"\n",
    "fee = 6000\n",
    "card = \"\"\"\n",
    "PIAIC ISLAMABAD\n",
    "Bahria University \n",
    "Name: %s\n",
    "Father's Name: %s\n",
    "Fee : %d\n",
    "\"\"\"\n",
    "\n",
    "print(card%(student_name,f_name, fee))"
   ]
  },
  {
   "cell_type": "code",
   "execution_count": 118,
   "metadata": {},
   "outputs": [
    {
     "name": "stdout",
     "output_type": "stream",
     "text": [
      "Name:John \n",
      "Father's nameSteven\n",
      "Fee5600\n",
      "\n",
      "PIAIC ISLAMABAD\n",
      "Bahria University \n",
      "Name: John \n",
      "Father's Name: Steven\n",
      "Fee : 5600\n",
      "\n"
     ]
    }
   ],
   "source": [
    "student_name = input(\"Name:\")\n",
    "f_name = input(\"Father's name\")\n",
    "fee = int(input(\"Fee\"))\n",
    "\n",
    "card = \"\"\"\n",
    "PIAIC ISLAMABAD\n",
    "Bahria University \n",
    "Name: %s\n",
    "Father's Name: %s\n",
    "Fee : %d\n",
    "\"\"\"\n",
    "\n",
    "print(card%(student_name,f_name, fee))"
   ]
  },
  {
   "cell_type": "code",
   "execution_count": 124,
   "metadata": {},
   "outputs": [
    {
     "name": "stdout",
     "output_type": "stream",
     "text": [
      "Name:John\n",
      "Father's nameSteve Hawks\n",
      "Fee5600\n",
      "\n",
      "PIAIC ISLAMABAD\n",
      "Bahria University \n",
      "Name: John\n",
      "Father's Name: Steve Hawks\n",
      "Fee : 5600\n",
      "\n"
     ]
    }
   ],
   "source": [
    "student_name = input(\"Name:\")\n",
    "f_name = input(\"Father's name\")\n",
    "fee = int(input(\"Fee\"))\n",
    "\n",
    "card = f\"\"\"\n",
    "PIAIC ISLAMABAD\n",
    "Bahria University \n",
    "Name: {student_name}\n",
    "Father's Name: {f_name}\n",
    "Fee : {fee}\n",
    "\"\"\"\n",
    "print(card)"
   ]
  },
  {
   "cell_type": "code",
   "execution_count": 125,
   "metadata": {},
   "outputs": [
    {
     "name": "stdout",
     "output_type": "stream",
     "text": [
      "\n",
      "Bahria University Islamabad\n",
      "Student Name: John Doe\n",
      "Father's Name: Steven\n",
      "Fee: 6000\n",
      "\n"
     ]
    }
   ],
   "source": [
    "name = \"John Doe\"\n",
    "fname = \"Steven\"\n",
    "fee = 6000\n",
    "\n",
    "data=\"\"\"\n",
    "Bahria University Islamabad\n",
    "Student Name: {}\n",
    "Father's Name: {}\n",
    "Fee: {}\n",
    "\"\"\"\n",
    "print(data.format(name, fname,fee))"
   ]
  },
  {
   "cell_type": "code",
   "execution_count": 127,
   "metadata": {},
   "outputs": [
    {
     "name": "stdout",
     "output_type": "stream",
     "text": [
      "\n",
      "Bahria University Islamabad\n",
      "Student Name: Steven\n",
      "Father's Name: John Doe\n",
      "Fee: 5000\n",
      "\n"
     ]
    }
   ],
   "source": [
    "name = \"John Doe\"\n",
    "fname = \"Steven\"\n",
    "fee = 5000\n",
    "\n",
    "a=\"\"\"\n",
    "Bahria University Islamabad\n",
    "Student Name: {1}\n",
    "Father's Name: {0}\n",
    "Fee: {2}\n",
    "\"\"\"\n",
    "print(a.format(name, fname,fee))"
   ]
  },
  {
   "cell_type": "code",
   "execution_count": 129,
   "metadata": {},
   "outputs": [
    {
     "name": "stdout",
     "output_type": "stream",
     "text": [
      "\n",
      "Bahria University Islamabad\n",
      "Student Name: John Doe\n",
      "Father's Name: Steven Hawks\n",
      "Fee: 5300\n",
      "\n"
     ]
    }
   ],
   "source": [
    "name = \"John Doe\"\n",
    "fname = \"Steven Hawks\"\n",
    "fee = 5300\n",
    "\n",
    "a=\"\"\"\n",
    "Bahria University Islamabad\n",
    "Student Name: {sn}\n",
    "Father's Name: {fn}\n",
    "Fee: {f}\n",
    "\"\"\"\n",
    "print(a.format(f=fee, fn=fname, sn=name))"
   ]
  },
  {
   "cell_type": "code",
   "execution_count": 130,
   "metadata": {},
   "outputs": [
    {
     "data": {
      "text/plain": [
       "'11'"
      ]
     },
     "execution_count": 130,
     "metadata": {},
     "output_type": "execute_result"
    }
   ],
   "source": [
    "\"1\" + '1'"
   ]
  },
  {
   "cell_type": "code",
   "execution_count": 131,
   "metadata": {},
   "outputs": [
    {
     "data": {
      "text/plain": [
       "2"
      ]
     },
     "execution_count": 131,
     "metadata": {},
     "output_type": "execute_result"
    }
   ],
   "source": [
    "int(\"1\") + int('1')"
   ]
  },
  {
   "cell_type": "code",
   "execution_count": 132,
   "metadata": {},
   "outputs": [
    {
     "ename": "TypeError",
     "evalue": "unsupported operand type(s) for +: 'int' and 'str'",
     "output_type": "error",
     "traceback": [
      "\u001b[1;31m---------------------------------------------------------------------------\u001b[0m",
      "\u001b[1;31mTypeError\u001b[0m                                 Traceback (most recent call last)",
      "\u001b[1;32m<ipython-input-132-b83632928f1b>\u001b[0m in \u001b[0;36m<module>\u001b[1;34m\u001b[0m\n\u001b[1;32m----> 1\u001b[1;33m \u001b[0mint\u001b[0m\u001b[1;33m(\u001b[0m\u001b[1;34m\"1\"\u001b[0m\u001b[1;33m)\u001b[0m \u001b[1;33m+\u001b[0m \u001b[1;34m\"8\"\u001b[0m\u001b[1;33m\u001b[0m\u001b[1;33m\u001b[0m\u001b[0m\n\u001b[0m",
      "\u001b[1;31mTypeError\u001b[0m: unsupported operand type(s) for +: 'int' and 'str'"
     ]
    }
   ],
   "source": [
    "int(\"1\") + \"8\""
   ]
  },
  {
   "cell_type": "code",
   "execution_count": 134,
   "metadata": {},
   "outputs": [
    {
     "data": {
      "text/plain": [
       "'666'"
      ]
     },
     "execution_count": 134,
     "metadata": {},
     "output_type": "execute_result"
    }
   ],
   "source": [
    "\"6\" * 3"
   ]
  },
  {
   "cell_type": "code",
   "execution_count": 135,
   "metadata": {},
   "outputs": [
    {
     "name": "stdout",
     "output_type": "stream",
     "text": [
      "Bahria University Islamabad \n",
      "Student NameJohn Doe\n",
      "Father's Name \n",
      "Steven\n",
      "Fee: 5000\n"
     ]
    }
   ],
   "source": [
    "name = \"John Doe\"\n",
    "fname = \"Steven\"\n",
    "fee = 5000\n",
    "\n",
    "print(\"Bahria University Islamabad \\nStudent Name\" \\\n",
    "+ name + \"\\nFather's Name \\n\"+fname+\"\\nFee: \"+str(fee))"
   ]
  },
  {
   "cell_type": "code",
   "execution_count": 136,
   "metadata": {},
   "outputs": [
    {
     "data": {
      "text/plain": [
       "56.0"
      ]
     },
     "execution_count": 136,
     "metadata": {},
     "output_type": "execute_result"
    }
   ],
   "source": [
    "8 * 7 + 9 / 2 ** 20 // 2 "
   ]
  },
  {
   "cell_type": "code",
   "execution_count": 139,
   "metadata": {},
   "outputs": [
    {
     "data": {
      "text/plain": [
       "56.0"
      ]
     },
     "execution_count": 139,
     "metadata": {},
     "output_type": "execute_result"
    }
   ],
   "source": [
    "8 * \\\n",
    "7 + \\\n",
    "9 / \\\n",
    "2 ** \\\n",
    "20 // \\\n",
    "2 "
   ]
  },
  {
   "cell_type": "code",
   "execution_count": 140,
   "metadata": {},
   "outputs": [
    {
     "name": "stdout",
     "output_type": "stream",
     "text": [
      "John Doe Jane Jessica\n",
      "['John Doe', 'Jane', 'Jessica']\n",
      "John Doe Jane Jessica\n"
     ]
    }
   ],
   "source": [
    "names = [\"John Doe\",\"Jane\",\"Jessica\"]\n",
    "\n",
    "\n",
    "print(names[0], names[1], names[2])\n",
    "print(names)\n",
    "print(*names)"
   ]
  },
  {
   "cell_type": "code",
   "execution_count": 141,
   "metadata": {},
   "outputs": [
    {
     "name": "stdout",
     "output_type": "stream",
     "text": [
      "John Steven 2000\n"
     ]
    }
   ],
   "source": [
    "name, fname, fee = \"John\", \"Steven\", 2000\n",
    "print(name, fname,fee)"
   ]
  },
  {
   "cell_type": "code",
   "execution_count": 149,
   "metadata": {},
   "outputs": [
    {
     "name": "stdout",
     "output_type": "stream",
     "text": [
      "('John',) Steven 2000\n"
     ]
    }
   ],
   "source": [
    "data=[\"John\", \"Steven\", 2000]\n",
    "name = data[0],\n",
    "fname = data[1]\n",
    "fee = data[2]\n",
    "print(name, fname,fee)"
   ]
  },
  {
   "cell_type": "code",
   "execution_count": 150,
   "metadata": {},
   "outputs": [
    {
     "name": "stdout",
     "output_type": "stream",
     "text": [
      "John Steven 2000\n"
     ]
    }
   ],
   "source": [
    "data=[\"John\", \"Steven\", 2000]\n",
    "name, fname, fee = data\n",
    "print(name, fname,fee)"
   ]
  },
  {
   "cell_type": "markdown",
   "metadata": {},
   "source": [
    "### Assignment # 2 :\n",
    "- String data types all methods  \n",
    "- Apply random operators on 20 oprands\n",
    "\n",
    "### Please find Solution at \n",
    "https://github.com/pakistanigeek/piaic/tree/master/Assignment-2\n",
    "\n"
   ]
  },
  {
   "cell_type": "code",
   "execution_count": null,
   "metadata": {},
   "outputs": [],
   "source": []
  }
 ],
 "metadata": {
  "kernelspec": {
   "display_name": "Python 3",
   "language": "python",
   "name": "python3"
  },
  "language_info": {
   "codemirror_mode": {
    "name": "ipython",
    "version": 3
   },
   "file_extension": ".py",
   "mimetype": "text/x-python",
   "name": "python",
   "nbconvert_exporter": "python",
   "pygments_lexer": "ipython3",
   "version": "3.7.3"
  }
 },
 "nbformat": 4,
 "nbformat_minor": 2
}
