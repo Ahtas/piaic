{
 "cells": [
  {
   "cell_type": "markdown",
   "metadata": {},
   "source": [
    "## Mega Assignment\n",
    "### Name   : Arsalan Azhar\n",
    "### Roll # : PIAIC61805\n",
    "### Course : Artificial Intelligence Islamabad Batch 3"
   ]
  },
  {
   "cell_type": "raw",
   "metadata": {},
   "source": [
    "# Q.1.  Which of the following terms are related to dictionaries?\n",
    "\n",
    "### Answer:\n",
    "a. value\n",
    "d. key"
   ]
  },
  {
   "cell_type": "raw",
   "metadata": {},
   "source": [
    "# Q.2. Just like lists, + operator is used to extend dictionaries?\n",
    "\n",
    "### Answer:\n",
    "b. False"
   ]
  },
  {
   "cell_type": "raw",
   "metadata": {},
   "source": [
    "# Q.3. To access items from a dictionary, we specify the index of that item within [] like myDict[0] ?\n",
    "\n",
    "### Answer:\n",
    "# b. False"
   ]
  },
  {
   "cell_type": "raw",
   "metadata": {},
   "source": [
    "# Q.4. When we use [] to access the value from a dictionary which does not exist in that dictionary….?\n",
    "\n",
    "### Answer:\n",
    "# d. None of above"
   ]
  },
  {
   "cell_type": "code",
   "execution_count": 1,
   "metadata": {},
   "outputs": [
    {
     "name": "stdout",
     "output_type": "stream",
     "text": [
      "arsalan@pakistanigeek.com\n"
     ]
    }
   ],
   "source": [
    "#%% Q.5. What does return the pop method of a dictionary?\n",
    "\n",
    "### Code:\n",
    "\n",
    "dict1 = {\"name\":\"Arsalan\",\"email\":\"arsalan@pakistanigeek.com\"}\n",
    "print(dict1.pop(\"email\"))\n",
    "\n",
    "### Answer:\n",
    "# d. value of the key, if it exists in the dictionary\n"
   ]
  },
  {
   "cell_type": "code",
   "execution_count": 2,
   "metadata": {},
   "outputs": [
    {
     "data": {
      "text/plain": [
       "('email', 'arsalan@pakistanigeek.com')"
      ]
     },
     "execution_count": 2,
     "metadata": {},
     "output_type": "execute_result"
    }
   ],
   "source": [
    "#%% Q.6. What does return popitem method return?\n",
    "\n",
    "### Code:\n",
    "\n",
    "dict1 = {\"name\":\"Arsalan\",\"email\":\"arsalan@pakistanigeek.com\"}\n",
    "dict1.popitem()\n",
    "\n",
    "### Answer:\n",
    "# b. tupple containing the pair of last item of the dictionary"
   ]
  },
  {
   "cell_type": "raw",
   "metadata": {},
   "source": [
    "#%% Q.7.Which of the following 2 methods can be used to iterate through the items of a dictionary?\n",
    "\n",
    "### Answer:\n",
    "# a. items()\n",
    "# b. values()"
   ]
  },
  {
   "cell_type": "raw",
   "metadata": {},
   "source": [
    "#%% Q.8. Which one of the following is used to enclose a dictionary?\n",
    "\n",
    "### Answer:\n",
    "# b. {} curly brackets"
   ]
  },
  {
   "cell_type": "code",
   "execution_count": 8,
   "metadata": {},
   "outputs": [
    {
     "name": "stdout",
     "output_type": "stream",
     "text": [
      "email field already exists\n",
      "{'name': 'Arsalan', 'email': 'test@gmail.com'}\n"
     ]
    }
   ],
   "source": [
    "#%% Q.9. Write Python Program add key-value pair in dictionary and check if a Given Key or Value or Both Exists in a Dictionary or Not.\n",
    "\n",
    "### Answer:\n",
    "\n",
    "def check_item_in_data(data,key,value):\n",
    "    error = \"\"\n",
    "    if data.get(key) and  data.get(key) == value:\n",
    "        # check if field and value both are matched\n",
    "        error += f\"field: {key} and value: {value} both exists\"\n",
    "    else:\n",
    "        # check if field or same value exists in field\n",
    "        if data.get(key):\n",
    "            # check if field already exist\n",
    "            error += f\"{key} field already exists\"\n",
    "\n",
    "        if data.get(key) == value:\n",
    "            # check if data already exist\n",
    "            error += f\"{email} value is already exists\"\n",
    "\n",
    "    return [data,error]\n",
    "\n",
    "\n",
    "# data = {\"name\":\"Arsalan\"} # Check for no errors\n",
    "data = {\"name\":\"Arsalan\",\"email\":\"test@gmail.com\"} # use this for field error\n",
    "# data = {\"name\":\"Arsalan\",\"email\":\"arsalan@pakistanigeek.com\"} # use this for field and value error\n",
    "\n",
    "email = \"arsalan@pakistanigeek.com\"\n",
    "data,error = check_item_in_data(data,\"email\",email)\n",
    "\n",
    "if(error):\n",
    "    print(error)\n",
    "\n",
    "print(data)"
   ]
  },
  {
   "cell_type": "code",
   "execution_count": 9,
   "metadata": {},
   "outputs": [
    {
     "name": "stdout",
     "output_type": "stream",
     "text": [
      "i : 2\n",
      "love : 2\n",
      "pakistan : 4\n",
      "our : 2\n",
      "to : 2\n"
     ]
    }
   ],
   "source": [
    "#%% Q.10. Write a Python Program to Count the Frequency of Words Appearing in a String Using a Dictionary and print only the words having Even (divisible by 2) frequency.\n",
    "\n",
    "### Answer:\n",
    "\n",
    "string = \"I love Pakistan, Pakistan is our motherland and, our count is beautiful country, it is really nice feeling to live in pakistan, i love to serve pakistan\"\n",
    "\n",
    "words = string.replace(',','').lower().split() #remove comma,convert to lowercase and then split based on space\n",
    "\n",
    "freq = [words.count(w) for w in words]\n",
    "\n",
    "words_with_freq = dict(zip(words,freq)) #zip words and freq array and then convert into directory\n",
    "\n",
    "even_length_words = [(w,f) for w,f in words_with_freq.items() if f % 2 == 0] # convert dict items in to list of tuples and filter even frequency items\n",
    "\n",
    "for item in even_length_words:\n",
    "    print(f\"{item[0]} : {item[1]}\")\n"
   ]
  },
  {
   "cell_type": "code",
   "execution_count": 10,
   "metadata": {},
   "outputs": [
    {
     "name": "stdout",
     "output_type": "stream",
     "text": [
      "['Feb', 'Apr', 'Mar']\n",
      "['Mar', 'May', 'Jun', 'Jul', 'Aug', 'Jan']\n",
      "['Jun', 'Jul', 'Aug', 'Jan']\n",
      "['Apr', 'May', 'Jul']\n",
      "[]\n",
      "['Apr', 'Mar', 'May', 'Jun', 'Jul', 'Aug']\n",
      "['Jan', 'Jul', 'May', 'Apr']\n",
      "['Feb', 'Apr', 'Mar', 'May']\n"
     ]
    }
   ],
   "source": [
    "#%% Q.11. X = [\"Feb\", Apr, Mar, May, Jun, Jul, Aug, Jan]. What will be output of following?\n",
    "\n",
    "### Answer:\n",
    "\n",
    "X = [\"Feb\", \"Apr\", \"Mar\", \"May\", \"Jun\", \"Jul\", \"Aug\", \"Jan\"]\n",
    "\n",
    "print(X[0:3]) #  ['Feb', 'Apr', 'Mar']\n",
    "print(X[2:8]) # ['Mar', 'May', 'Jun', 'Jul', 'Aug', 'Jan']\n",
    "print(X[4:9]) #['Jun', 'Jul', 'Aug', 'Jan']\n",
    "print(X[1:7:2]) # ['Apr', 'May', 'Jul']\n",
    "print(X[-1:-7]) # []\n",
    "print(X[-7:7]) # ['Apr', 'Mar', 'May', 'Jun', 'Jul', 'Aug']\n",
    "print(X[-1:-8:-2]) # ['Jan', 'Jul', 'May', 'Apr']\n",
    "print(X[:4]) # ['Feb', 'Apr', 'Mar', 'May']"
   ]
  },
  {
   "cell_type": "code",
   "execution_count": 13,
   "metadata": {},
   "outputs": [
    {
     "name": "stdout",
     "output_type": "stream",
     "text": [
      "[9, 2, 8, 4, 5]\n",
      "[2, 8, 4, 5]\n"
     ]
    }
   ],
   "source": [
    "#%% Q.12. Remove the correct number from the list X\n",
    "\n",
    "### Code:\n",
    "\n",
    "X = [ 9,2,8,4,5]\n",
    "print(X)\n",
    "X.remove(9)\n",
    "print(X)\n",
    "\n",
    "### Answer:\n",
    "# 3) .remove(9)"
   ]
  },
  {
   "cell_type": "code",
   "execution_count": 14,
   "metadata": {},
   "outputs": [
    {
     "name": "stdout",
     "output_type": "stream",
     "text": [
      "hello! hello! hello! \n"
     ]
    }
   ],
   "source": [
    "#%% Q.13. p = 3 q = 'hello! ' print( q __?__ p) hello! hello! hello!\n",
    "\n",
    "### Code:\n",
    "p=3\n",
    "q = 'hello! '\n",
    "print(q*p)\n",
    "\n",
    "### Answer:\n",
    "# 1) *"
   ]
  },
  {
   "cell_type": "code",
   "execution_count": 15,
   "metadata": {},
   "outputs": [
    {
     "name": "stdout",
     "output_type": "stream",
     "text": [
      "THIS IS A RANDOM SENTENCE\n"
     ]
    }
   ],
   "source": [
    "#%% Q.14. y = \"this is a random sentence\"  print (y__?__) Output: THIS IS A RANDOM SENTENCE\n",
    "\n",
    "### Code:\n",
    "y = \"this is a random sentence\"\n",
    "print(y.upper())\n",
    "\n",
    "### Answer:\n",
    "# 1) .upper()"
   ]
  },
  {
   "cell_type": "code",
   "execution_count": 17,
   "metadata": {},
   "outputs": [
    {
     "name": "stdout",
     "output_type": "stream",
     "text": [
      "<class 'bool'>\n",
      "<class 'str'>\n",
      "<class 'float'>\n"
     ]
    }
   ],
   "source": [
    "#%% Q.15.\n",
    "\n",
    "### Answer:\n",
    "\n",
    "p = True # bool\n",
    "q = 'True' # str\n",
    "r = 2 # int\n",
    "r = 2.0 # float\n",
    "print(type(p)) # bool\n",
    "print(type(q)) # str\n",
    "print(type(r)) # float\n",
    "print(type(s)) # NameError"
   ]
  },
  {
   "cell_type": "raw",
   "metadata": {},
   "source": [
    "#%% Q.16. What are the optional arguments to the function?\n",
    "# function_1(R1, q, p=None, R2= None)\n",
    "\n",
    "### Answer:\n",
    "# 2) p and R2"
   ]
  },
  {
   "cell_type": "raw",
   "metadata": {},
   "source": [
    "#%% Q.17. Which command invokes method X() of the object p?\n",
    "\n",
    "### Answer:\n",
    "# 4) p.x()"
   ]
  },
  {
   "cell_type": "code",
   "execution_count": 18,
   "metadata": {},
   "outputs": [
    {
     "name": "stdout",
     "output_type": "stream",
     "text": [
      "0\n",
      "2.0\n",
      "2\n",
      "2\n"
     ]
    }
   ],
   "source": [
    "#%% Q.18. X=4 , Y= 2\n",
    "\n",
    "### Answer:\n",
    "\n",
    "X=4\n",
    "Y= 2\n",
    "print(X % Y) # will output  0\n",
    "print(X / Y) # will output  2.0\n",
    "print(X // Y) # will output  2\n",
    "print(Y % X) # will output  2"
   ]
  },
  {
   "cell_type": "code",
   "execution_count": 22,
   "metadata": {},
   "outputs": [
    {
     "name": "stdout",
     "output_type": "stream",
     "text": [
      "====================================================================================================\n",
      "4\n",
      "1\n",
      "1\n",
      "5\n",
      "9\n",
      "0\n",
      "====================================================================================================\n",
      "4 \t 5\n",
      "1 \t 9\n",
      "1 \t 0\n",
      "====================================================================================================\n",
      "4\t1\t1\t5\t9\t0\t\n",
      "====================================================================================================\n",
      "4\t1\t1\t\n",
      "5\t9\t0\t\n"
     ]
    }
   ],
   "source": [
    "#%% Q.19. x = [[4, 1, 1], [5, 9, 0]]\n",
    "\n",
    "### Answer:\n",
    "\n",
    "print(\"=\"* 100)\n",
    "x = [[4, 1, 1], [5, 9, 0]]\n",
    "\n",
    "for i in x:\n",
    "    for j in i:\n",
    "        print(j)\n",
    "\n",
    "print(\"=\"* 100)\n",
    "for i,v in enumerate(range(len(x[0]))):\n",
    "    print(x[0][i], \"\\t\",x[1][i] )\n",
    "print(\"=\"* 100)\n",
    "\n",
    "for i in x:\n",
    "    for j in i:\n",
    "        print(j,end=\"\\t\")\n",
    "print(\"\")\n",
    "\n",
    "print(\"=\"* 100)\n",
    "for i in x:\n",
    "    for j in i:\n",
    "        print(j, end=\"\\t\")\n",
    "    print(\"\")"
   ]
  },
  {
   "cell_type": "code",
   "execution_count": 23,
   "metadata": {},
   "outputs": [
    {
     "name": "stdout",
     "output_type": "stream",
     "text": [
      "Item 0 - 10.62\n",
      "Item 1 - 16.14\n",
      "Item 2 - 6.45\n",
      "Item 3 - 17.11\n"
     ]
    }
   ],
   "source": [
    "#%% Q.20. q = [10.62, 16.14, 6.45, 17.11]\n",
    "\n",
    "# Code:\n",
    "q = [10.62, 16.14, 6.45, 17.11]\n",
    "\n",
    "for j,z in enumerate (q) :\n",
    "    print( \"Item \" + str(j) + \" - \" + str(z))\n",
    "\n",
    "### Answer:\n",
    "# 3) j"
   ]
  },
  {
   "cell_type": "raw",
   "metadata": {},
   "source": [
    "#%% Q.21. Which of these about a dictionary is false?\n",
    "\n",
    "### Answer:\n",
    "\n",
    "# b) The keys of a dictionary can be accessed using values - we can't do it directly but using lambda function we can do it\n",
    "# d) Dictionaries are mutable"
   ]
  },
  {
   "cell_type": "code",
   "execution_count": 48,
   "metadata": {},
   "outputs": [
    {
     "name": "stdout",
     "output_type": "stream",
     "text": [
      "{0: 1, 1: 1, 2: 1}\n"
     ]
    }
   ],
   "source": [
    "#%% Q.22. What is the output of the following:\n",
    "\n",
    "### Code:\n",
    "\n",
    "D = dict()\n",
    "for i in range (3):\n",
    "    for j in range(2):\n",
    "        D[i] = j\n",
    "\n",
    "print(D)\n",
    "\n",
    "### Answer:\n",
    "\n",
    "# a. {0: 1, 1: 1, 2: 1}"
   ]
  },
  {
   "cell_type": "raw",
   "metadata": {},
   "source": [
    "#%% Q.23. You are writing a function that increments player score in a soccer game\n",
    "# If no value is specified for points, then point must start with 1\n",
    "# If no value is specified for bonus, then bonus should be True\n",
    "# 01 def increment_score ( bonus , score , points ):\n",
    "\n",
    "### Answer:\n",
    "\n",
    "# To meet the first requirement line 01 must be change to\n",
    "# def increment_score ( bonus , score , points = 1 ): (True)\n",
    "\n",
    "# To meet the second requirement line 01 must be change to\n",
    "# def increment_score ( bonus = True , score , points = 1 ): (False) Because after default parameters we can't write parameters without default values\n",
    "\n",
    "# Once a parameter is defined with default value, any parameter to the right must also be defined with default values (True)\n"
   ]
  },
  {
   "cell_type": "code",
   "execution_count": 24,
   "metadata": {},
   "outputs": [
    {
     "name": "stdout",
     "output_type": "stream",
     "text": [
      "11.333333333333334\n"
     ]
    }
   ],
   "source": [
    "#%% Q.24. What will be output?\n",
    "\n",
    "### Code:\n",
    "def avg (x , y , z = 50 ):\n",
    "    adding = x + y + z\n",
    "    avg_value = adding / 3\n",
    "    return avg_value\n",
    "y = avg ( x = 5 , y = 9 , z = 20 )\n",
    "\n",
    "print(y) # 11.333333333333334 will be printed\n",
    "\n",
    "### Answer:\n",
    "\n",
    "# 11.333333333333334 will be printed"
   ]
  },
  {
   "cell_type": "code",
   "execution_count": 25,
   "metadata": {},
   "outputs": [
    {
     "name": "stdout",
     "output_type": "stream",
     "text": [
      "name is: Ali Marks: 44.5\n"
     ]
    }
   ],
   "source": [
    "#%% Q.25.  What will be output? Describe it with reason and logic behind.\n",
    "# Do multiple experiments with arguments / parameters to remove error, if occurs.\n",
    "\n",
    "### Code:\n",
    "def avg ( *opt_values , name ):\n",
    "    avg_value = sum (opt_values) / len(opt_values)\n",
    "    print(\"name is: \" + name + \" Marks: \" + str(avg_value))\n",
    "\n",
    "avg ( 5 , 9 , 20, 34, 87, 112 , name=\"Ali\" ) # 44.5  will be printed\n",
    "\n",
    "### Answer:\n",
    "# 44.5  will be printed\n",
    "# There was an error for name parameters because we taking *opt_values as a first argument and if it is first argument we must have to pass\n",
    "# all right side params as a named arguments. so it is fixed by using name=\"Ali\" argument"
   ]
  },
  {
   "cell_type": "code",
   "execution_count": 26,
   "metadata": {},
   "outputs": [
    {
     "name": "stdout",
     "output_type": "stream",
     "text": [
      "The winner was Manchester\n",
      "The score was 4-3\n"
     ]
    }
   ],
   "source": [
    "#%% Q.26. Final output is not required. Just take copy pencil, think and write the output of each line,\n",
    "# write down the link between parameters and arguments. Remove one or two ** from other_info and observe the ouput.\n",
    "\n",
    "### Code:\n",
    "\n",
    "def display_result(winner, score, **other_info):\n",
    "    print(\"The winner was \" + winner)\n",
    "    print(\"The score was \" + score)\n",
    "display_result(winner=\"Manchester\", score=\"4-3\", overtime =\"yes\", injuries=\"none\")\n",
    "\n",
    "### Answer:\n",
    "\n",
    "# Output :\n",
    "#The winner was Manchester\n",
    "#The score was 4-3\n",
    "\n",
    "# winner and score are named argument and will map to function params as it is\n",
    "# overime and injuries will map to other_info which is directory unpacking/decomposing parameter\n",
    "# remove one * will give an error as it will expect comma seperated values but we are passing named arguments which doesn't exists\n",
    "# remove two ** will also give an error as it will expect other_info param as a single required parameters while we aren't providing this param"
   ]
  },
  {
   "cell_type": "code",
   "execution_count": 27,
   "metadata": {},
   "outputs": [
    {
     "name": "stdout",
     "output_type": "stream",
     "text": [
      "The winner was Manchester\n",
      "The score was 1-0\n"
     ]
    }
   ],
   "source": [
    "#%% Q.27. The position of parameters and arguments is re-arranged. Just think and find the logic behind output or error.\n",
    "\n",
    "### Code:\n",
    "def display_result(winner, score, **other_info): # Rearranged params because unpacking dictionary can't be in middle\n",
    "    print(\"The winner was \" + winner)\n",
    "    print(\"The score was \" + score)\n",
    "\n",
    "display_result(winner=\"Manchester\", overtime =\"yes\", injuries=\"none\" , score=\"1-0\" )\n",
    "\n",
    "\n",
    "### Answer:\n",
    "# unpacking dictionary can't be in middle\n"
   ]
  },
  {
   "cell_type": "code",
   "execution_count": 28,
   "metadata": {},
   "outputs": [
    {
     "name": "stdout",
     "output_type": "stream",
     "text": [
      "000123\n"
     ]
    }
   ],
   "source": [
    "#%% Q.28. What will be the output of the following Python expression if X=123?\n",
    "\n",
    "### Code:\n",
    "X=123\n",
    "print(\"%06d\"%X) # 6 digits 0 padded if digit length is less then 6\n",
    "\n",
    "### Answer:\n",
    "# b) 000123"
   ]
  },
  {
   "cell_type": "code",
   "execution_count": 29,
   "metadata": {},
   "outputs": [
    {
     "name": "stdout",
     "output_type": "stream",
     "text": [
      "22.19\n"
     ]
    }
   ],
   "source": [
    "#%% Q.29. What will be the output of the following Python expression if x=22.19?\n",
    "\n",
    "### Code:\n",
    "x=22.19\n",
    "print(\"%5.2f\"%x)\n",
    "\n",
    "### Answer:\n",
    "# c) 22.19"
   ]
  },
  {
   "cell_type": "code",
   "execution_count": 30,
   "metadata": {},
   "outputs": [
    {
     "data": {
      "text/plain": [
       "'1.234560, 1.234560, 01.23'"
      ]
     },
     "execution_count": 30,
     "metadata": {},
     "output_type": "execute_result"
    }
   ],
   "source": [
    "#%% Q.30. What will be the output of the following Python code?\n",
    "\n",
    "### Code:\n",
    "'{0:f}, {1:2f}, {2:05.2f}'.format(1.23456, 1.23456, 1.23456)\n",
    "\n",
    "### Answer:\n",
    "\n",
    "# c) No output  but if print it then d) 1.234560, 1.234560, 01.23"
   ]
  },
  {
   "cell_type": "code",
   "execution_count": 31,
   "metadata": {},
   "outputs": [],
   "source": [
    "#%% Q.31. Write down the output of each line after each iterations. Do multiple experiments to change values\n",
    "\n",
    "### Code\n",
    "\n",
    "i = 1\n",
    "while False: # This code will never run because we set expression as false, if it set by true then it will run infinity time\n",
    "    if i%2 == 0:  # if the value is even then break the loop\n",
    "        break\n",
    "    print(i)\n",
    "    i += 2  # add 2 into i existing value\n",
    "\n",
    "### Answer:\n",
    "\n",
    "# As the code above it will never run due to False condition in while statement\n",
    "# If we change\n",
    "#     While True then it will run infinity time because break condition will never meet which is i should be even.\n",
    "#     if we set i even number 2 then it will never print i value and break before reaching to print statement due to if condition\n",
    "#     if we set i odd number then it will run infinity time"
   ]
  },
  {
   "cell_type": "code",
   "execution_count": 32,
   "metadata": {},
   "outputs": [
    {
     "name": "stdout",
     "output_type": "stream",
     "text": [
      "a a a a a a "
     ]
    }
   ],
   "source": [
    "#%% Q.32. Write down the output of each line after each iterations. Do multiple experiments to change values\n",
    "\n",
    "### Code\n",
    "\n",
    "x = \"abcdef\"\n",
    "i = \"a\"\n",
    "while i in x:\n",
    "    x = x[:-1] # reduce string length from end but never move cursor to next item\n",
    "    print(i, end = \" \")\n",
    "\n",
    "### Answer:\n",
    "\n",
    "# Iteration 1\n",
    "# x = abcdef\n",
    "# ouput a\n",
    "\n",
    "# Iteration 2\n",
    "# x = abcde\n",
    "# ouput a\n",
    "\n",
    "# Iteration 3\n",
    "# x = abcd\n",
    "# ouput a\n",
    "\n",
    "# Iteration 4\n",
    "# x = abc\n",
    "# ouput a\n",
    "\n",
    "# Iteration 5\n",
    "# x = ab\n",
    "# ouput a\n",
    "\n",
    "# Iteration 6\n",
    "# x = a\n",
    "# ouput a\n",
    "\n",
    "# Final Output:  a a a a a a\n",
    "\n",
    "# List Empty and while conition is break\n"
   ]
  },
  {
   "cell_type": "code",
   "execution_count": 33,
   "metadata": {},
   "outputs": [
    {
     "name": "stdout",
     "output_type": "stream",
     "text": [
      "d\n",
      "c\n",
      "b\n",
      "a\n"
     ]
    }
   ],
   "source": [
    "#%% Q.33. Write down the output of each line after each iterations. Do multiple experiments to change values\n",
    "\n",
    "### Answer:\n",
    "# list function will convert string into charater list\n",
    "# reversed function will iterate in a reverse order on list\n",
    "# join function will join the generated reverse order list into string\n",
    "# and loop will iterate over string and print character one by one\n",
    "# Also if we don't join the reverse list the output will be same\n",
    "\n",
    "for i in ''.join(reversed(list('abcd'))):\n",
    "    print (i)\n",
    "\n",
    "# Iteration 1 - d\n",
    "# Iteration 2 - c\n",
    "# Iteration 3 - b\n",
    "# Iteration 4 - a"
   ]
  },
  {
   "cell_type": "code",
   "execution_count": 34,
   "metadata": {},
   "outputs": [
    {
     "name": "stdout",
     "output_type": "stream",
     "text": [
      "0\n",
      "1\n",
      "2\n",
      "3\n",
      "4\n"
     ]
    }
   ],
   "source": [
    "#%% Q.34.\n",
    "\n",
    "for i in range(10):\n",
    "    if i == 5:\n",
    "        break\n",
    "    else:\n",
    "        print(i)\n",
    "else:\n",
    "    print(\"Here\")\n",
    "\n",
    "### Answer:\n",
    "\n",
    "# Iteration 1 - Fall in else block - will print = 0\n",
    "# Iteration 2 - Fall in else block - will print = 1\n",
    "# Iteration 3 - Fall in else block - will print = 2\n",
    "# Iteration 4 - Fall in else block - will print = 3\n",
    "# Iteration 5 - Fall in else block - will print = 4\n",
    "# Iteration 6 - Fall in if block value of i = 5 - Loop will be break\n",
    "# It will only fall in else block if the ranger or given list is zero its called for-else loop"
   ]
  },
  {
   "cell_type": "code",
   "execution_count": 36,
   "metadata": {},
   "outputs": [
    {
     "name": "stdout",
     "output_type": "stream",
     "text": [
      "48\n"
     ]
    }
   ],
   "source": [
    "#%% Q.35.\n",
    "y = 6\n",
    "z = lambda x: x * y\n",
    "print (z(8))\n",
    "\n",
    "### Answer:\n",
    "\n",
    "#lambda functions are inline functions are annoymous function\n",
    "#In above code we have created a lambda function which takes parameter x value and multiply with a block scope variable y and return it\n",
    "#Ouput of above code will be 48 where x=8 and y = 6"
   ]
  },
  {
   "cell_type": "code",
   "execution_count": 37,
   "metadata": {},
   "outputs": [
    {
     "name": "stdout",
     "output_type": "stream",
     "text": [
      "0\n"
     ]
    }
   ],
   "source": [
    "#%% Q.36.  Write output and give proper logic of whatever the output comes\n",
    "\n",
    "i=0\n",
    "def change(i):\n",
    "    i=i+1\n",
    "    return i\n",
    "change(1)\n",
    "print(i)\n",
    "\n",
    "### Answer:\n",
    "\n",
    "# When we print i after calling change function it will show the old i value which was set at the time of initialization not the one we have\n",
    "# changed in then \"change\" function. because the i have different scope in both block, in change function we are getting single paramter \"i\"\n",
    "# which have local scope and it can't change the outter side variable value. until variable is passed through ref or the returned value again\n",
    "# assigned to i where function is calling such as i = change(1)\n"
   ]
  },
  {
   "cell_type": "code",
   "execution_count": 38,
   "metadata": {},
   "outputs": [],
   "source": [
    "#%% Q.37. Wasn't exists in file\n",
    "\n",
    "### Answer:"
   ]
  },
  {
   "cell_type": "code",
   "execution_count": 39,
   "metadata": {},
   "outputs": [],
   "source": [
    "#%% Q.38. Wasn't exists in file\n",
    "\n",
    "### Answer:"
   ]
  },
  {
   "cell_type": "code",
   "execution_count": 40,
   "metadata": {},
   "outputs": [],
   "source": [
    "#%% Q.39. Wasn't exists in file\n",
    "\n",
    "### Answer:"
   ]
  },
  {
   "cell_type": "code",
   "execution_count": 41,
   "metadata": {},
   "outputs": [
    {
     "name": "stdout",
     "output_type": "stream",
     "text": [
      "<class 'tuple'>\n",
      "(2, 3, 4)\n"
     ]
    }
   ],
   "source": [
    "#%% Q.40. What will be output? Define this output clearly\n",
    "\n",
    "\n",
    "### Code:\n",
    "\n",
    "def change(one, *two):\n",
    "    print(type(two)) # print type of parameters which is tuple\n",
    "    print(two) # print tuple value\n",
    "change(1,2,3,4)\n",
    "\n",
    "### Answer:\n",
    "\n",
    "# Above code will output :\n",
    "#   1- a type of variable \"two\"\n",
    "#   2- a tuple value (2, 3, 4)\n",
    "# As we used decomposing operater \"*\" in parameter which will convert all the comma seperated argument after required argument \"one\" into tuple"
   ]
  },
  {
   "cell_type": "code",
   "execution_count": 42,
   "metadata": {},
   "outputs": [
    {
     "name": "stdout",
     "output_type": "stream",
     "text": [
      "<class 'dict'>\n"
     ]
    }
   ],
   "source": [
    "#%% Q.41. What will be output? Define this output clearly\n",
    "\n",
    "### Code :\n",
    "\n",
    "def find(a, **b):\n",
    "    print(type(b))\n",
    "find('letters',A='1',B='2')\n",
    "\n",
    "### Answer:\n",
    "# It will return dict type object,  **b will take all key value pair arguments after a and will generate a dictionary of these options"
   ]
  },
  {
   "cell_type": "code",
   "execution_count": 43,
   "metadata": {},
   "outputs": [
    {
     "name": "stdout",
     "output_type": "stream",
     "text": [
      "[0]\n",
      "[0, 1]\n",
      "[0, 1, 2]\n"
     ]
    }
   ],
   "source": [
    "#%% Q.42.  Write output and define each line’s output for each iteration of ‘i’\n",
    "\n",
    "def foo(i, x=[]):\n",
    "    x.append(i)\n",
    "    return x\n",
    "for i in range(3):\n",
    "    print(foo(i))\n",
    "\n",
    "### Answer:\n",
    "\n",
    "# For loop from 0 to 3\n",
    "# Will pass i value into foo function\n",
    "\n",
    "# Iteration 1 :\n",
    "#   i = 0, x = empty array\n",
    "#   appent i into x list\n",
    "#   x will be [0]\n",
    "#   Print value x which is return by function foo in loop\n",
    "\n",
    "# Iteration 2 :\n",
    "#   i = 1, x = [0]\n",
    "#   append i into x list, which is already innitialized on first iteration\n",
    "#   x will be [0, 1]\n",
    "#   Print value x which is return by function foo in loop\n",
    "\n",
    "# Iteration 3 :\n",
    "#   i = 2, x = [0, 1]\n",
    "#   append i into x list, which is already exists in memory\n",
    "#   x will be  [0, 1, 2]\n",
    "#   Print value x which is return by function foo in loop\n",
    "\n",
    "# Here main point is to be noted x array is only initialized one time because its reference type and behave like static data in memory\n"
   ]
  },
  {
   "cell_type": "code",
   "execution_count": 49,
   "metadata": {},
   "outputs": [
    {
     "data": {
      "text/plain": [
       "15"
      ]
     },
     "execution_count": 49,
     "metadata": {},
     "output_type": "execute_result"
    }
   ],
   "source": [
    "#%% Q.43.  Evaluate the following Python arithmetic expression: and write which segment will execute first?\n",
    "# (Brackets, Exponents, Multiplication, Addition / Subtraction, Left to right rule)\n",
    "\n",
    "(3* (1+2)**2 - (2**2)*3)\n",
    "### Answer:\n",
    "\n",
    "# 1- Brackets\n",
    "# 2- Exponents\n",
    "# 3- Multiplication\n",
    "# 4- Addition\n",
    "# 5- Substraction\n",
    "\n",
    "# 1 - (1+2) will be 3 - (3* (3)**2 - (2**2)*3)\n",
    "# 2 - (2**2) will be 4 - (3* (3)**2 - (4)*3)\n",
    "# 3 - (3)**2 will be 9 - (3* 9 - (4)*3)\n",
    "# 4 - 3* 9 will be 27 - (27 - (4)*3)\n",
    "# 5 - (4)*3 will be 12 - (27 - 12)\n",
    "# 6 - (27 - 12) will be 15 (27 - 12)\n",
    "# 7 - 15 will be answer\n"
   ]
  },
  {
   "cell_type": "code",
   "execution_count": 50,
   "metadata": {},
   "outputs": [
    {
     "data": {
      "text/plain": [
       "50"
      ]
     },
     "execution_count": 50,
     "metadata": {},
     "output_type": "execute_result"
    }
   ],
   "source": [
    "#%% Q.44. You are creating a function that manipulates a number. The function has the following requirements:\n",
    "# A float is passed into the function\n",
    "# The function must take the absolute value of the float\n",
    "# Any decimal points after the integer must be removed\n",
    "\n",
    "### Code :\n",
    "import math\n",
    "x = math.fabs(-50.3) # used to retrive absolute value from float\n",
    "math.floor(x) # used to remove decimal points\n",
    "\n",
    "### Answer:\n",
    "# E. math.fabs(x)  used to retrive absolute value from float\n",
    "# C. math.floor(x) used to remove decimal points"
   ]
  },
  {
   "cell_type": "code",
   "execution_count": 46,
   "metadata": {},
   "outputs": [
    {
     "name": "stdout",
     "output_type": "stream",
     "text": [
      "5\n",
      "10\n"
     ]
    }
   ],
   "source": [
    "#%% Q.45. You are writing code that generates a random integer with a minimum value of 5 and a maximum value of 11.\n",
    "# Which two functions should you use? Each correct answer presents a complete solution. (Choose two.)\n",
    "\n",
    "### Code :\n",
    "\n",
    "from random import randint, randrange\n",
    "print(randint(5, 11)) # end value is included.\n",
    "print(randrange(5, 12, 1)) # will exclude end value\n",
    "\n",
    "### Answer:\n",
    "# B. random.randint(5, 11)\n",
    "# C. random.randrange(5, 12, 1)"
   ]
  },
  {
   "cell_type": "code",
   "execution_count": 47,
   "metadata": {},
   "outputs": [
    {
     "name": "stdout",
     "output_type": "stream",
     "text": [
      "Enter your marks: 50\n",
      "Your Grade: E\n"
     ]
    }
   ],
   "source": [
    "#%% Q.46. Write a program that receives marks from user and check the grade.\n",
    "\n",
    "### Answer:\n",
    "# In code below we don't need to specify upper limit \"user_marks\" in elif condition because these conditions are written in a sequence,\n",
    "# The power of this code will show when your rearrange elif in any random order it will never never have logical error.\n",
    "\n",
    "user_marks = input(\"Enter your marks: \")\n",
    "if(user_marks.isnumeric() == True):\n",
    "    user_marks = int(user_marks)\n",
    "    grade = \"\"\n",
    "    if(user_marks >= 90):\n",
    "        grade = \"A\"\n",
    "    elif(user_marks >= 80 and user_marks < 90):\n",
    "        grade = \"B\"\n",
    "    elif(user_marks >= 70 and user_marks < 80):\n",
    "        grade = \"C\"\n",
    "    elif(user_marks > 60 and user_marks < 70 ):\n",
    "        grade = \"D\"\n",
    "    elif(user_marks <= 60):\n",
    "        grade = \"E\"\n",
    "    print(f\"Your Grade: {grade}\")\n",
    "else:\n",
    "    print(\"Please enter numeric value\")"
   ]
  },
  {
   "cell_type": "code",
   "execution_count": null,
   "metadata": {},
   "outputs": [],
   "source": []
  }
 ],
 "metadata": {
  "kernelspec": {
   "display_name": "Python 3",
   "language": "python",
   "name": "python3"
  },
  "language_info": {
   "codemirror_mode": {
    "name": "ipython",
    "version": 3
   },
   "file_extension": ".py",
   "mimetype": "text/x-python",
   "name": "python",
   "nbconvert_exporter": "python",
   "pygments_lexer": "ipython3",
   "version": "3.7.3"
  }
 },
 "nbformat": 4,
 "nbformat_minor": 2
}
