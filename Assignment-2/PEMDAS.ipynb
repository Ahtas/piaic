{
 "cells": [
  {
   "cell_type": "code",
   "execution_count": 84,
   "metadata": {},
   "outputs": [
    {
     "data": {
      "text/plain": [
       "247"
      ]
     },
     "execution_count": 84,
     "metadata": {},
     "output_type": "execute_result"
    }
   ],
   "source": [
    "# 5 - 3 + 1  * 6 + 50 + 5 - 4 + 4 *3 + 50  * 3 - 2 + 13 * 4 / 6 * 3 + 4 -8 - 6 + 12   \n",
    "# 5 - 3 + 1  * 6 + 50 + 5 - 4 + 4 *3 + 50  * 3 - 2 + 13 * 0.6666666666666666 * 3 + 4 -8 - 6 + 12  \n",
    "# 5 - 3 +  6 + 50 + 5 - 4 + 4 *3 + 50  * 3 - 2 + 13 * 0.6666666666666666 * 3 + 4 -8 - 6 + 12  \n",
    "# 5 - 3 +  6 + 50 + 5 - 4 + 12 + 50  * 3 - 2 + 13 * 0.6666666666666666 * 3 + 4 -8 - 6 + 12  \n",
    "# 5 - 3 +  6 + 50 + 5 - 4 + 12 + 150 - 2 + 13 * 0.6666666666666666 * 3 + 4 -8 - 6 + 12  \n",
    "# 5 - 3 +  6 + 50 + 5 - 4 + 12 + 150 - 2 + 8.666666666666666 * 3 + 4 -8 - 6 + 12  \n",
    "# 5 - 3 +  6 + 50 + 5 - 4 + 12 + 150 - 2 + 26 + 4 -8 - 6 + 12  \n",
    "# 2 +  6 + 50 + 5 - 4 + 12 + 150 - 2 + 26 + 4 -8 - 6 + 12  \n",
    "# 8 + 50 + 5 - 4 + 12 + 150 - 2 + 26 + 4 -8 - 6 + 12  \n",
    "# 58 + 5 - 4 + 12 + 150 - 2 + 26 + 4 -8 - 6 + 12  \n",
    "# 63 - 4 + 12 + 150 - 2 + 26 + 4 -8 - 6 + 12  \n",
    "# 59 + 12 + 150 - 2 + 26 + 4 -8 - 6 + 12  \n",
    "# 71 + 150 - 2 + 26 + 4 -8 - 6 + 12  \n",
    "# 221 - 2 + 26 + 4 -8 - 6 + 12  \n",
    "# 219 + 26 + 4 -8 - 6 + 12  \n",
    "# 245 + 4 -8 - 6 + 12  \n",
    "# 249 -8 - 6 + 12  \n",
    "# 241 - 6 + 12  \n",
    "# 235 + 12 \n",
    "247 \n"
   ]
  },
  {
   "cell_type": "code",
   "execution_count": null,
   "metadata": {},
   "outputs": [],
   "source": []
  }
 ],
 "metadata": {
  "kernelspec": {
   "display_name": "Python 3",
   "language": "python",
   "name": "python3"
  },
  "language_info": {
   "codemirror_mode": {
    "name": "ipython",
    "version": 3
   },
   "file_extension": ".py",
   "mimetype": "text/x-python",
   "name": "python",
   "nbconvert_exporter": "python",
   "pygments_lexer": "ipython3",
   "version": "3.7.3"
  }
 },
 "nbformat": 4,
 "nbformat_minor": 2
}
