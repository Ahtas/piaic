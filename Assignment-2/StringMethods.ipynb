{
 "cells": [
  {
   "cell_type": "markdown",
   "metadata": {},
   "source": [
    "# Execute all string functions"
   ]
  },
  {
   "cell_type": "code",
   "execution_count": 2,
   "metadata": {},
   "outputs": [],
   "source": [
    "# variables to use in different string functions\n",
    "l_paragraph = \"i love pakistan\"\n",
    "c_paragraph = \"I LOVE PAKISTAN\"\n",
    "m_paragraph = \"I love PaKistan\""
   ]
  },
  {
   "cell_type": "code",
   "execution_count": 3,
   "metadata": {},
   "outputs": [
    {
     "name": "stdout",
     "output_type": "stream",
     "text": [
      "I love pakistan\n"
     ]
    }
   ],
   "source": [
    "#Converts the first character to upper case\n",
    "print(l_paragraph.capitalize())  "
   ]
  },
  {
   "cell_type": "code",
   "execution_count": 4,
   "metadata": {},
   "outputs": [
    {
     "name": "stdout",
     "output_type": "stream",
     "text": [
      "i love pakistan\n"
     ]
    }
   ],
   "source": [
    "# Converts string into lower case\n",
    "print(c_paragraph.casefold())"
   ]
  },
  {
   "cell_type": "code",
   "execution_count": 84,
   "metadata": {},
   "outputs": [
    {
     "name": "stdout",
     "output_type": "stream",
     "text": [
      "                                          i love pakistan                                           \n"
     ]
    }
   ],
   "source": [
    "# Returns a centered string\n",
    "print(paragraph.center(100))"
   ]
  },
  {
   "cell_type": "code",
   "execution_count": 85,
   "metadata": {},
   "outputs": [
    {
     "name": "stdout",
     "output_type": "stream",
     "text": [
      "2\n"
     ]
    }
   ],
   "source": [
    "# Returns the number of times a specified value occurs in a string\n",
    "print(paragraph.count(\"a\"))"
   ]
  },
  {
   "cell_type": "code",
   "execution_count": 25,
   "metadata": {},
   "outputs": [
    {
     "name": "stdout",
     "output_type": "stream",
     "text": [
      "b'I love Pakistan \\xc2\\xa9 '\n"
     ]
    }
   ],
   "source": [
    "# Returns an encoded version of the string\n",
    "print(\"I love Pakistan © \".encode())  "
   ]
  },
  {
   "cell_type": "code",
   "execution_count": 26,
   "metadata": {},
   "outputs": [
    {
     "name": "stdout",
     "output_type": "stream",
     "text": [
      "True\n"
     ]
    }
   ],
   "source": [
    "# Returns true if the string ends with the specified value\n",
    "print(l_paragraph.endswith(\"n\")) "
   ]
  },
  {
   "cell_type": "code",
   "execution_count": 30,
   "metadata": {},
   "outputs": [
    {
     "name": "stdout",
     "output_type": "stream",
     "text": [
      "I   Love    Pakistan\n"
     ]
    }
   ],
   "source": [
    "# Sets the tab size of the string\n",
    "print(\"I\\tLove\\tPakistan\".expandtabs(4)) "
   ]
  },
  {
   "cell_type": "code",
   "execution_count": 86,
   "metadata": {},
   "outputs": [
    {
     "name": "stdout",
     "output_type": "stream",
     "text": [
      "7\n"
     ]
    }
   ],
   "source": [
    "# Searches the string for a specified value and returns the position of where it was found\n",
    "print(l_paragraph.find(\"pak\"))"
   ]
  },
  {
   "cell_type": "code",
   "execution_count": 47,
   "metadata": {},
   "outputs": [
    {
     "name": "stdout",
     "output_type": "stream",
     "text": [
      "Hp Laptop service charges only 40.00\n"
     ]
    }
   ],
   "source": [
    "# Formats specified values in a string\n",
    "print(\"{product} service charges only {price:.2f}\".format(product=\"Hp Laptop\",price=40))"
   ]
  },
  {
   "cell_type": "code",
   "execution_count": null,
   "metadata": {},
   "outputs": [],
   "source": [
    "# format_map()\tFormats specified values in a string"
   ]
  },
  {
   "cell_type": "code",
   "execution_count": 50,
   "metadata": {},
   "outputs": [
    {
     "name": "stdout",
     "output_type": "stream",
     "text": [
      "7\n"
     ]
    }
   ],
   "source": [
    "# Searches the string for a specified value and returns the position of where it was found\n",
    "print(l_paragraph.index(\"pak\")) "
   ]
  },
  {
   "cell_type": "code",
   "execution_count": 59,
   "metadata": {},
   "outputs": [
    {
     "name": "stdout",
     "output_type": "stream",
     "text": [
      "False\n"
     ]
    }
   ],
   "source": [
    "# Returns True if all characters in the string are alphanumeric\n",
    "print((\"This is charactr is alphanumeric\").isalnum()) "
   ]
  },
  {
   "cell_type": "code",
   "execution_count": 44,
   "metadata": {},
   "outputs": [
    {
     "name": "stdout",
     "output_type": "stream",
     "text": [
      "False\n"
     ]
    }
   ],
   "source": [
    "# Returns True if all characters in the string are in the alphabet\n",
    "print(l_paragraph.isalpha())"
   ]
  },
  {
   "cell_type": "code",
   "execution_count": 71,
   "metadata": {},
   "outputs": [
    {
     "name": "stdout",
     "output_type": "stream",
     "text": [
      "False\n",
      "True\n"
     ]
    }
   ],
   "source": [
    "# Returns True if all characters in the string are decimals\n",
    "print(l_paragraph.isdecimal())\n",
    "print(\"123\".isdecimal())"
   ]
  },
  {
   "cell_type": "code",
   "execution_count": 70,
   "metadata": {},
   "outputs": [
    {
     "name": "stdout",
     "output_type": "stream",
     "text": [
      "False\n",
      "True\n"
     ]
    }
   ],
   "source": [
    "# Returns True if all characters in the string are digits\n",
    "print(l_paragraph.isdigit())\n",
    "print(\"12121\".isdigit()) \n"
   ]
  },
  {
   "cell_type": "code",
   "execution_count": 69,
   "metadata": {},
   "outputs": [
    {
     "name": "stdout",
     "output_type": "stream",
     "text": [
      "False\n",
      "True\n"
     ]
    }
   ],
   "source": [
    "# Returns True if the string is an identifier\n",
    "print(l_paragraph.isidentifier())\n",
    "print(\"name\".isidentifier()) "
   ]
  },
  {
   "cell_type": "code",
   "execution_count": 72,
   "metadata": {},
   "outputs": [
    {
     "name": "stdout",
     "output_type": "stream",
     "text": [
      "True\n",
      "False\n"
     ]
    }
   ],
   "source": [
    "# Returns True if all characters in the string are lower case\n",
    "print(l_paragraph.islower()) \n",
    "print(c_paragraph.islower())"
   ]
  },
  {
   "cell_type": "code",
   "execution_count": 73,
   "metadata": {},
   "outputs": [
    {
     "name": "stdout",
     "output_type": "stream",
     "text": [
      "False\n",
      "True\n"
     ]
    }
   ],
   "source": [
    "#check if string is numeric\n",
    "print(l_paragraph.isnumeric()) \n",
    "print(\"123\".isnumeric())"
   ]
  },
  {
   "cell_type": "code",
   "execution_count": 75,
   "metadata": {},
   "outputs": [
    {
     "name": "stdout",
     "output_type": "stream",
     "text": [
      "True\n",
      "False\n"
     ]
    }
   ],
   "source": [
    "#return true if charactor is printable\n",
    "print(l_paragraph.isprintable())\n",
    "print(\"Hi!\\n this is arsalan #1?\".isprintable())"
   ]
  },
  {
   "cell_type": "code",
   "execution_count": 76,
   "metadata": {},
   "outputs": [
    {
     "name": "stdout",
     "output_type": "stream",
     "text": [
      "False\n",
      "True\n"
     ]
    }
   ],
   "source": [
    "#return true if all charactors are white space\n",
    "print(l_paragraph.isspace())\n",
    "print(\"            \".isspace())"
   ]
  },
  {
   "cell_type": "code",
   "execution_count": 80,
   "metadata": {},
   "outputs": [
    {
     "name": "stdout",
     "output_type": "stream",
     "text": [
      "False\n",
      "True\n"
     ]
    }
   ],
   "source": [
    "#return true if title case\n",
    "print(c_paragraph.istitle())\n",
    "print(\"This Is Title Case\".istitle())"
   ]
  },
  {
   "cell_type": "code",
   "execution_count": 81,
   "metadata": {},
   "outputs": [
    {
     "name": "stdout",
     "output_type": "stream",
     "text": [
      "False\n",
      "True\n"
     ]
    }
   ],
   "source": [
    "#return true if uppercase\n",
    "print(l_paragraph.isupper())\n",
    "print(c_paragraph.isupper())\n"
   ]
  },
  {
   "cell_type": "code",
   "execution_count": 90,
   "metadata": {},
   "outputs": [
    {
     "name": "stdout",
     "output_type": "stream",
     "text": [
      "My Name Is Arsalan\n"
     ]
    }
   ],
   "source": [
    "# Join list and output as a string using delimeter \n",
    "print(\" \".join([\"My\",\"Name\",\"Is\",\"Arsalan\"]))"
   ]
  },
  {
   "cell_type": "code",
   "execution_count": 91,
   "metadata": {},
   "outputs": [
    {
     "name": "stdout",
     "output_type": "stream",
     "text": [
      "Country:    Pakistan\n"
     ]
    }
   ],
   "source": [
    "# Returns a left justified version of the string\n",
    "print(\"Country:\".ljust(20),\" Pakistan\") "
   ]
  },
  {
   "cell_type": "code",
   "execution_count": 92,
   "metadata": {},
   "outputs": [
    {
     "name": "stdout",
     "output_type": "stream",
     "text": [
      "i love pakistan\n"
     ]
    }
   ],
   "source": [
    "# convert string into lower case\n",
    "print(c_paragraph.lower()) "
   ]
  },
  {
   "cell_type": "code",
   "execution_count": null,
   "metadata": {},
   "outputs": [],
   "source": [
    "# maketrans()\tReturns a translation table to be used in translations"
   ]
  },
  {
   "cell_type": "code",
   "execution_count": 100,
   "metadata": {},
   "outputs": [
    {
     "name": "stdout",
     "output_type": "stream",
     "text": [
      "('i ', 'love', ' pakistan')\n"
     ]
    }
   ],
   "source": [
    "# convert into partition\n",
    "print(l_paragraph.partition(\"love\"))"
   ]
  },
  {
   "cell_type": "code",
   "execution_count": 12,
   "metadata": {},
   "outputs": [
    {
     "name": "stdout",
     "output_type": "stream",
     "text": [
      "we love pakistan\n"
     ]
    }
   ],
   "source": [
    "#Find and replace text\n",
    "print(l_paragraph.replace(\"i \",\"we \"))"
   ]
  },
  {
   "cell_type": "code",
   "execution_count": 42,
   "metadata": {},
   "outputs": [
    {
     "name": "stdout",
     "output_type": "stream",
     "text": [
      "13\n"
     ]
    }
   ],
   "source": [
    "# Searches the string for a specified value and returns the last position of where it was found\n",
    "print(l_paragraph.rfind(\"a\")) # find element position from right side"
   ]
  },
  {
   "cell_type": "code",
   "execution_count": 40,
   "metadata": {},
   "outputs": [
    {
     "name": "stdout",
     "output_type": "stream",
     "text": [
      "i love pakistan\n",
      "13\n",
      "8\n"
     ]
    }
   ],
   "source": [
    "# Searches the string for a specified value and returns the last position of where it was found\n",
    "print(l_paragraph)\n",
    "print(l_paragraph.rindex(\"a\")) # index from right side\n",
    "print(l_paragraph.index(\"a\")) # index from left side"
   ]
  },
  {
   "cell_type": "code",
   "execution_count": 31,
   "metadata": {},
   "outputs": [
    {
     "name": "stdout",
     "output_type": "stream",
     "text": [
      "                                                                                     i love pakistan\n"
     ]
    }
   ],
   "source": [
    "# Returns a right justified version of the string\n",
    "print(l_paragraph.rjust(100))"
   ]
  },
  {
   "cell_type": "code",
   "execution_count": 26,
   "metadata": {},
   "outputs": [
    {
     "name": "stdout",
     "output_type": "stream",
     "text": [
      "('i ', 'love', ' pakistan')\n"
     ]
    }
   ],
   "source": [
    "# Returns a tuple where the string is parted into three parts\n",
    "print(l_paragraph.rpartition(\"love\"))"
   ]
  },
  {
   "cell_type": "code",
   "execution_count": 23,
   "metadata": {},
   "outputs": [
    {
     "name": "stdout",
     "output_type": "stream",
     "text": [
      "['i love', 'pakistan']\n"
     ]
    }
   ],
   "source": [
    "# Splits the string at the specified separator, and returns a list\n",
    "# Difference between rsplit and split is rsplit start from right side of string.\n",
    "print(l_paragraph.rsplit(\" \",1))"
   ]
  },
  {
   "cell_type": "code",
   "execution_count": 18,
   "metadata": {},
   "outputs": [
    {
     "name": "stdout",
     "output_type": "stream",
     "text": [
      " ----- i love pakistan         ----- \n",
      " ----- i love pakistan ----- \n"
     ]
    }
   ],
   "source": [
    "# Returns a right trim version of the string\n",
    "data = l_paragraph + \"        \"  # Append spaced at right side of string\n",
    "without_rstrip = \" ----- \" + data + \" ----- \"\n",
    "with_rstrip = \" ----- \" + data.rstrip() + \" ----- \"\n",
    "print(without_rstrip)\n",
    "print(with_rstrip)"
   ]
  },
  {
   "cell_type": "code",
   "execution_count": 43,
   "metadata": {},
   "outputs": [
    {
     "name": "stdout",
     "output_type": "stream",
     "text": [
      "        i love pakistan\n",
      "i love pakistan\n"
     ]
    }
   ],
   "source": [
    "# Returns a left trim version of the string\n",
    "data = \"        \" + l_paragraph # Append spaced at left side of string\n",
    "print(data)\n",
    "print(data.lstrip())"
   ]
  },
  {
   "cell_type": "code",
   "execution_count": 11,
   "metadata": {},
   "outputs": [
    {
     "name": "stdout",
     "output_type": "stream",
     "text": [
      "['i', 'love', 'pakistan']\n",
      "['i l', 've pakistan']\n"
     ]
    }
   ],
   "source": [
    "# Splits the string at the specified separator, and returns a list\n",
    "print(l_paragraph.split())\n",
    "print(l_paragraph.split(\"o\"))"
   ]
  },
  {
   "cell_type": "code",
   "execution_count": 10,
   "metadata": {},
   "outputs": [
    {
     "name": "stdout",
     "output_type": "stream",
     "text": [
      "['I am from Pakistan ', ' I am proud to be pakistani']\n"
     ]
    }
   ],
   "source": [
    "# Splits the string at line breaks (e.g \\n) and returns a list\n",
    "print(\"I am from Pakistan \\n I am proud to be pakistani\".splitlines())"
   ]
  },
  {
   "cell_type": "code",
   "execution_count": 7,
   "metadata": {},
   "outputs": [
    {
     "name": "stdout",
     "output_type": "stream",
     "text": [
      "True\n",
      "False\n"
     ]
    }
   ],
   "source": [
    "# Returns true if the string starts with the specified value\n",
    "print(l_paragraph.startswith(\"i\"))\n",
    "print(c_paragraph.startswith(\"i\"))"
   ]
  },
  {
   "cell_type": "code",
   "execution_count": 107,
   "metadata": {},
   "outputs": [
    {
     "name": "stdout",
     "output_type": "stream",
     "text": [
      "I am Pakistani\n"
     ]
    }
   ],
   "source": [
    "# Returns a trimmed version of the string - trim spaces from both sides\n",
    "print(\"        I am Pakistani             \".strip())"
   ]
  },
  {
   "cell_type": "code",
   "execution_count": 109,
   "metadata": {},
   "outputs": [
    {
     "name": "stdout",
     "output_type": "stream",
     "text": [
      "I LOVE PAKISTAN\n",
      "i love pakistan\n"
     ]
    }
   ],
   "source": [
    "#Swaps cases, lower case becomes upper case and vice versa\n",
    "print(l_paragraph.swapcase())\n",
    "print(c_paragraph.swapcase())"
   ]
  },
  {
   "cell_type": "code",
   "execution_count": 110,
   "metadata": {},
   "outputs": [
    {
     "name": "stdout",
     "output_type": "stream",
     "text": [
      "I Love Pakistan\n"
     ]
    }
   ],
   "source": [
    "# Converts the first character of each word to upper case\n",
    "print(c_paragraph.title())"
   ]
  },
  {
   "cell_type": "code",
   "execution_count": null,
   "metadata": {},
   "outputs": [],
   "source": [
    "# l_paragraph.translate()\tReturns a translated string"
   ]
  },
  {
   "cell_type": "code",
   "execution_count": 112,
   "metadata": {},
   "outputs": [
    {
     "name": "stdout",
     "output_type": "stream",
     "text": [
      "I LOVE PAKISTAN\n"
     ]
    }
   ],
   "source": [
    "#Converts a string into upper case\n",
    "print(l_paragraph.upper())"
   ]
  },
  {
   "cell_type": "code",
   "execution_count": 5,
   "metadata": {},
   "outputs": [
    {
     "name": "stdout",
     "output_type": "stream",
     "text": [
      "0000000150\n"
     ]
    }
   ],
   "source": [
    "# Fills the string with a specified number of 0 values at the beginning\n",
    "print(\"150\".zfill(10))"
   ]
  },
  {
   "cell_type": "code",
   "execution_count": null,
   "metadata": {},
   "outputs": [],
   "source": []
  }
 ],
 "metadata": {
  "kernelspec": {
   "display_name": "Python 3",
   "language": "python",
   "name": "python3"
  },
  "language_info": {
   "codemirror_mode": {
    "name": "ipython",
    "version": 3
   },
   "file_extension": ".py",
   "mimetype": "text/x-python",
   "name": "python",
   "nbconvert_exporter": "python",
   "pygments_lexer": "ipython3",
   "version": "3.7.3"
  }
 },
 "nbformat": 4,
 "nbformat_minor": 2
}
